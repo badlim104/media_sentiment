{
 "cells": [
  {
   "cell_type": "code",
   "execution_count": 1,
   "metadata": {},
   "outputs": [],
   "source": [
    "from bs4 import BeautifulSoup\n",
    "import urllib\n",
    "from datetime import datetime\n",
    "from datetime import timedelta\n",
    "import pandas as pd\n",
    "import pickle\n",
    "import numpy as np\n",
    "import pandas as pd\n",
    "import nltk\n",
    "from sklearn.externals import joblib\n",
    "import re\n",
    "import codecs\n",
    "from sklearn import feature_extraction\n",
    "import os\n",
    "from bs4 import BeautifulSoup\n",
    "import urllib\n",
    "from nltk.stem.snowball import SnowballStemmer\n",
    "import scipy.spatial.distance\n",
    "import numba \n",
    "from numba import jit\n",
    "\n",
    "df = pickle.load( open( \"big_df.pkl\", \"rb\" ) )\n",
    "\n",
    "gb=df.groupby(['NYT_Link'])\n",
    "\n",
    "\n",
    "sample={}\n",
    "for key,value in gb.groups.items():\n",
    "    sample[key]={\"all_3\":set(gb.get_group(key).article_distances.nsmallest(10)\n",
    "                    .index).intersection(set(gb.get_group(key).keyword_distances.nsmallest(10).\n",
    "                                             index),set(gb.get_group(key).title_distance.nsmallest(5).index)),\n",
    "                 't,a':set(gb.get_group(key).article_distances.nsmallest(10)\n",
    "                    .index).intersection(set(gb.get_group(key).title_distance.nsmallest(10).\n",
    "                                             index)),\n",
    "                't,k':set(gb.get_group(key).title_distance.nsmallest(10)\n",
    "                    .index).intersection(set(gb.get_group(key).keyword_distances.nsmallest(10).\n",
    "                                             index)),\n",
    "                'a,k':set(gb.get_group(key).article_distances.nsmallest(10)\n",
    "                    .index).intersection(set(gb.get_group(key).keyword_distances.nsmallest(10).\n",
    "                                             index))}\n",
    "    \n",
    "check_lst=[]\n",
    "for key,value in sample.items():\n",
    "    if len(value['all_3'])>=1:\n",
    "        check_lst.append(list(value['all_3']))\n",
    "    \n",
    "flatten=lambda l:[item for sublist in l for item in sublist]\n",
    "\n",
    "check_lst=flatten(check_lst)"
   ]
  },
  {
   "cell_type": "code",
   "execution_count": 2,
   "metadata": {},
   "outputs": [
    {
     "data": {
      "text/plain": [
       "297"
      ]
     },
     "execution_count": 2,
     "metadata": {},
     "output_type": "execute_result"
    }
   ],
   "source": [
    "len(check_lst)"
   ]
  },
  {
   "cell_type": "code",
   "execution_count": 3,
   "metadata": {},
   "outputs": [],
   "source": [
    "close_articles_df1=df.iloc[check_lst].copy()"
   ]
  },
  {
   "cell_type": "code",
   "execution_count": 5,
   "metadata": {},
   "outputs": [
    {
     "data": {
      "text/plain": [
       "(297, 17)"
      ]
     },
     "execution_count": 5,
     "metadata": {},
     "output_type": "execute_result"
    }
   ],
   "source": [
    "close_articles_df1.shape"
   ]
  },
  {
   "cell_type": "code",
   "execution_count": null,
   "metadata": {},
   "outputs": [],
   "source": [
    "wf=open('article_with_three_intersections.pkl','wb')\n",
    "pickle.dump(,wf)"
   ]
  },
  {
   "cell_type": "code",
   "execution_count": 6,
   "metadata": {},
   "outputs": [],
   "source": [
    "close_articles_df1['NYT_Article_Cleaned']=close_articles_df1.NYT_Article.apply(lambda unicode_line:unicode_line.translate({ord(c): None for c in 'Äòôúîù'}))\n",
    "\n"
   ]
  },
  {
   "cell_type": "code",
   "execution_count": 27,
   "metadata": {},
   "outputs": [
    {
     "data": {
      "text/plain": [
       "(167, 18)"
      ]
     },
     "execution_count": 27,
     "metadata": {},
     "output_type": "execute_result"
    }
   ],
   "source": [
    "close_articles_df.shape"
   ]
  },
  {
   "cell_type": "code",
   "execution_count": 7,
   "metadata": {},
   "outputs": [],
   "source": [
    "close_articles_df1.to_csv('close_articles_df1.csv')"
   ]
  },
  {
   "cell_type": "code",
   "execution_count": 1,
   "metadata": {},
   "outputs": [],
   "source": [
    "import pandas as pd\n",
    "df=pd.read_csv('close_articles_df1.csv')"
   ]
  },
  {
   "cell_type": "code",
   "execution_count": 2,
   "metadata": {},
   "outputs": [
    {
     "data": {
      "text/plain": [
       "(297, 19)"
      ]
     },
     "execution_count": 2,
     "metadata": {},
     "output_type": "execute_result"
    }
   ],
   "source": [
    "df.shape"
   ]
  },
  {
   "cell_type": "code",
   "execution_count": 3,
   "metadata": {},
   "outputs": [],
   "source": [
    "df_1=pd.read_csv('close_articles_df.csv')"
   ]
  },
  {
   "cell_type": "code",
   "execution_count": 4,
   "metadata": {},
   "outputs": [
    {
     "data": {
      "text/plain": [
       "(167, 19)"
      ]
     },
     "execution_count": 4,
     "metadata": {},
     "output_type": "execute_result"
    }
   ],
   "source": [
    "df_1.shape"
   ]
  },
  {
   "cell_type": "code",
   "execution_count": null,
   "metadata": {},
   "outputs": [],
   "source": []
  }
 ],
 "metadata": {
  "kernelspec": {
   "display_name": "Python 3",
   "language": "python",
   "name": "python3"
  },
  "language_info": {
   "codemirror_mode": {
    "name": "ipython",
    "version": 3
   },
   "file_extension": ".py",
   "mimetype": "text/x-python",
   "name": "python",
   "nbconvert_exporter": "python",
   "pygments_lexer": "ipython3",
   "version": "3.6.5"
  }
 },
 "nbformat": 4,
 "nbformat_minor": 2
}

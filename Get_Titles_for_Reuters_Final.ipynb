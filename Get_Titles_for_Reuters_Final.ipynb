{
 "cells": [
  {
   "cell_type": "code",
   "execution_count": 1,
   "metadata": {},
   "outputs": [],
   "source": [
    "#script to get the titles for Reuters articles\n",
    "from bs4 import BeautifulSoup\n",
    "import urllib\n",
    "from datetime import datetime\n",
    "from datetime import timedelta\n",
    "import pandas as pd\n",
    "import pickle\n",
    "\n",
    "#open the file you saved your unique reuters articles in. you will add to this a new \n",
    "#column with corresponding Reuters titles \n",
    "reuters_unique = pickle.load( open( \"20180516-20180621_reuters_unique.pkl\", \"rb\" ) )\n",
    "\n",
    "#function to get the titles \n",
    "def get_titles(links):\n",
    "    title_list=[]\n",
    "    for i in links:\n",
    "        try:\n",
    "            y=urllib.request.urlopen(i).read()\n",
    "       \n",
    "        except Exception as e:\n",
    "            title_list.append(e)\n",
    "            continue\n",
    "        \n",
    "        z = BeautifulSoup(y,'lxml')\n",
    "        a_titles=z.find_all(\"title\")\n",
    "        #print(len(a))\n",
    "        if len(a_titles)>=1:\n",
    "            title_list.append(a_titles[0].get_text()[17:-10]) \n",
    "        elif len(a)==0:\n",
    "            title_list.append(\"Na\")\n",
    "            \n",
    "        \n",
    "            \n",
    "    return title_list\n",
    "\n",
    "\n",
    "#if it takes too long to scrape all titles at once, break it up into pieces and run the function\n",
    "links_reuters=reuters_unique.link.tolist()\n",
    "titles_reuters=get_titles(links_reuters)\n",
    "\n",
    "#dump into a pickle file\n",
    "with open('reuters_titles.pkl','wb') as f: \n",
    "    pickle.dump(titles_reuters,f)\n",
    "\n",
    "        "
   ]
  }
 ],
 "metadata": {
  "kernelspec": {
   "display_name": "Python 3",
   "language": "python",
   "name": "python3"
  },
  "language_info": {
   "codemirror_mode": {
    "name": "ipython",
    "version": 3
   },
   "file_extension": ".py",
   "mimetype": "text/x-python",
   "name": "python",
   "nbconvert_exporter": "python",
   "pygments_lexer": "ipython3",
   "version": "3.7.1"
  }
 },
 "nbformat": 4,
 "nbformat_minor": 2
}
